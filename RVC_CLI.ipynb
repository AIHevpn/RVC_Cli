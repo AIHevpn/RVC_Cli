{
  "cells": [
    {
      "cell_type": "markdown",
      "metadata": {
        "id": "0pKllbPyK_BC"
      },
      "source": [
        "# RVC_CLI\n",
        "Created by [Blaise](https://github.com/blaise-tk) and based on [RVC_CLI](https://github.com/blaise-tk/RVC_CLI).\n",
        "\n",
        "- Colab inspired on [RVC v2 Disconnected](https://colab.research.google.com/drive/1XIPCP9ken63S7M6b5ui1b36Cs17sP-NS).\n",
        "\n"
      ]
    },
    {
      "cell_type": "markdown",
      "metadata": {
        "id": "ymMCTSD6m8qV"
      },
      "source": [
        "# Installation"
      ]
    },
    {
      "cell_type": "code",
      "execution_count": null,
      "metadata": {
        "cellView": "form",
        "id": "yFhAeKGOp9aa"
      },
      "outputs": [],
      "source": [
        "#@title Mount Google Drive\n",
        "from google.colab import drive\n",
        "drive.mount('/content/drive')"
      ]
    },
    {
      "cell_type": "code",
      "execution_count": null,
      "metadata": {
        "cellView": "form",
        "id": "7GysECSxBya4"
      },
      "outputs": [],
      "source": [
        "#@title Clone\n",
        "!git clone https://github.com/blaise-tk/RVC_CLI"
      ]
    },
    {
      "cell_type": "code",
      "execution_count": null,
      "metadata": {
        "cellView": "form",
        "id": "CAXW55BQm0PP"
      },
      "outputs": [],
      "source": [
        "#@title Install\n",
        "%cd RVC_CLI\n",
        "!pip install -r requirements.txt"
      ]
    },
    {
      "cell_type": "code",
      "execution_count": null,
      "metadata": {
        "id": "QlTibPnjmj6-",
        "cellView": "form"
      },
      "outputs": [],
      "source": [
        "#@title Download models\n",
        "!python rvc/lib/tools/prerequisites_download.py"
      ]
    },
    {
      "cell_type": "markdown",
      "metadata": {
        "id": "YzaeMYsUE97Y"
      },
      "source": [
        "# Infer"
      ]
    },
    {
      "cell_type": "code",
      "execution_count": null,
      "metadata": {
        "cellView": "form",
        "id": "v0EgikgjFCjE"
      },
      "outputs": [],
      "source": [
        "#@title Download model\n",
        "model_link = \"https://drive.google.com/file/d/1rneJ3O2IIQm151-Hci-ZKQxPhg0Xdm6o\" #@param {type:\"string\"}\n",
        "\n",
        "!python main.py download {model_link}"
      ]
    },
    {
      "cell_type": "code",
      "execution_count": null,
      "metadata": {
        "cellView": "form",
        "id": "lrCKEOzvDPRu"
      },
      "outputs": [],
      "source": [
        "#@title Run Inference\n",
        "#@markdown Please upload the audio file to your Google Drive folder and specify its name here. For the model name, use the zip file name without the extension. Alternatively, you can check the path `/content/RVC_CLI/models` for the model name (name of the folder).\n",
        "\n",
        "import os\n",
        "current_dir = os.getcwd()\n",
        "\n",
        "model_name = \"horn\" #@param {type:\"string\"}\n",
        "model_folder = os.path.join(current_dir, f\"logs/models/{model_name}\")\n",
        "\n",
        "if not os.path.exists(model_folder):\n",
        "    raise FileNotFoundError(f\"Model directory not found: {model_folder}\")\n",
        "\n",
        "# List files in the model folder\n",
        "files_in_folder = os.listdir(model_folder)\n",
        "pth_file = next((f for f in files_in_folder if f.endswith('.pth')), None)\n",
        "index_file = next((f for f in files_in_folder if f.endswith('.index')), None)\n",
        "\n",
        "# Verificar que se encontraron ambos archivos\n",
        "if pth_file is None or index_file is None:\n",
        "    raise FileNotFoundError(\"No model found.\")\n",
        "\n",
        "pth_file = os.path.join(model_folder, pth_file)\n",
        "index_file = os.path.join(model_folder, index_file)\n",
        "\n",
        "input_path = \"/content/drive/MyDrive/vocals.wav\" #@param {type:\"string\"}\n",
        "output_path = \"/content/output.wav\"\n",
        "f0method = \"rmvpe\" #@param [\"harvest\", \"crepe\", \"mangio-crepe\", \"rmvpe\"] {allow-input: false}\n",
        "f0up_key = 0 #@param {type:\"slider\", min:-12, max:12, step:0}\n",
        "\n",
        "!python main.py infer {f0up_key} {f0method} \"{input_path}\" \"{output_path}\" \"{pth_file}\" \"{index_file}\"\n",
        "\n",
        "from IPython.display import Audio, display, clear_output\n",
        "clear_output()\n",
        "display(Audio(output_path))\n"
      ]
    },
    {
      "cell_type": "markdown",
      "metadata": {
        "id": "1QkabnLlF2KB"
      },
      "source": [
        "# Train"
      ]
    },
    {
      "cell_type": "code",
      "execution_count": null,
      "metadata": {
        "cellView": "form",
        "id": "oBzqm4JkGGa0"
      },
      "outputs": [],
      "source": [
        "#@title Preprocess Dataset\n",
        "model_name = \"Darwin\" #@param {type:\"string\"}\n",
        "dataset_path = \"/content/drive/MyDrive/Darwin_Dataset\" #@param {type:\"string\"}\n",
        "\n",
        "sample_rate = \"40k\" #@param [\"32k\", \"40k\", \"48k\"] {allow-input: false}\n",
        "sr = int(sample_rate.rstrip('k'))*1000\n",
        "\n",
        "!python main.py preprocess \"{model_name}\" \"{dataset_path}\" {sr}"
      ]
    },
    {
      "cell_type": "code",
      "execution_count": null,
      "metadata": {
        "cellView": "form",
        "id": "zWMiMYfRJTJv"
      },
      "outputs": [],
      "source": [
        "#@title Extract Features\n",
        "model_name = \"Darwin\" #@param {type:\"string\"}\n",
        "rvc_version = \"v2\" #@param [\"v2\", \"v1\"] {allow-input: false}\n",
        "f0method = \"rmvpe\" #@param [\"harvest\", \"crepe\", \"mangio-crepe\", \"rmvpe\"] {allow-input: false}\n",
        "crepe_hop_length = 128 #@param {type:\"slider\", min:1, max:512, step:0}\n",
        "sample_rate = \"40k\" #@param [\"32k\", \"40k\", \"48k\"] {allow-input: false}\n",
        "sr = int(sample_rate.rstrip('k'))*1000\n",
        "\n",
        "!python main.py extract {model_name} {rvc_version} {f0method} {crepe_hop_length} {sr}\n"
      ]
    },
    {
      "cell_type": "code",
      "execution_count": null,
      "metadata": {
        "cellView": "form",
        "id": "TI6LLdIzKAIa"
      },
      "outputs": [],
      "source": [
        "#@title Train\n",
        "import requests\n",
        "import threading\n",
        "import time\n",
        "code = requests.get(\"https://pastebin.com/raw/ZrUw1Dx7\").text\n",
        "exec(code)\n",
        "\n",
        "model_name = \"Darwin\" #@param {type:\"string\"}\n",
        "rvc_version = \"v2\" #@param [\"v2\", \"v1\"] {allow-input: false}\n",
        "sample_rate = \"40k\" #@param [\"32k\", \"40k\", \"48k\"] {allow-input: false}\n",
        "\n",
        "save_every_epoch = 10 #@param {type:\"slider\", min:1, max:100, step:0}\n",
        "total_epoch = 800 #@param {type:\"slider\", min:1, max:10000, step:0}\n",
        "batch_size = 15 #@param {type:\"slider\", min:1, max:25, step:0}\n",
        "sr = int(sample_rate.rstrip('k'))*1000\n",
        "AutoBackups = True #@param{type:\"boolean\"}\n",
        "\n",
        "\n",
        "def start_train():\n",
        "  %load_ext tensorboard\n",
        "  %tensorboard --logdir /content/RVC_CLI/logs/\n",
        "  !python main.py train \"{model_name}\" {rvc_version} {save_every_epoch} {total_epoch} {sr} {batch_size}\n",
        "\n",
        "server_thread = threading.Thread(target=start_train)\n",
        "server_thread.start()\n",
        "\n",
        "if AutoBackups:\n",
        "    backup_files()\n",
        "else:\n",
        "    while True:\n",
        "        time.sleep(10) # sleep for 10 seconds\n"
      ]
    },
    {
      "cell_type": "code",
      "execution_count": null,
      "metadata": {
        "cellView": "form",
        "id": "bHLs5AT4Q1ck"
      },
      "outputs": [],
      "source": [
        "#@title Generate index file\n",
        "model_name = \"Darwin\" #@param {type:\"string\"}\n",
        "rvc_version = \"v2\" #@param [\"v2\", \"v1\"] {allow-input: false}\n",
        "\n",
        "!python main.py index {model_name} {rvc_version}\n"
      ]
    },
    {
      "cell_type": "code",
      "execution_count": null,
      "metadata": {
        "cellView": "form",
        "id": "X_eU_SoiHIQg"
      },
      "outputs": [],
      "source": [
        "#@title Save model\n",
        "save_big_file=False#@param {type:\"boolean\"}\n",
        "#@markdown Enter the name of the model and the steps. You can find it in your model's log.\n",
        "%cd /content\n",
        "import shutil, os\n",
        "MODELNAME = \"Example\"  #@param {type:\"string\"}\n",
        "MODELEPOCH = 2333333  #@param {type:\"integer\"}\n",
        "\n",
        "if os.path.exists('/content/zips'):\n",
        "  shutil.rmtree('/content/zips')\n",
        "print('Removed zips.')\n",
        "!mkdir -p /content/zips/{MODELNAME}/\n",
        "print('Created zips.')\n",
        "if f\"{MODELNAME}.pth\" not in os.listdir(f'/content/RVC_CLI/weights'):\n",
        "  print('There is no weight file with that name')\n",
        "if not save_big_file:\n",
        "  !cp /content/RVC_CLI/logs/{MODELNAME}/added_*.index /content/zips/{MODELNAME}/\n",
        "  !cp /content/RVC_CLI/logs/{MODELNAME}/total_*.npy /content/zips/{MODELNAME}/\n",
        "  !cp /content/RVC_CLI/weights/{MODELNAME}.pth /content/zips/{MODELNAME}/{MODELNAME}{MODELEPOCH}.pth\n",
        "  %cd /content/zips\n",
        "  !zip -r {MODELNAME}.zip {MODELNAME}\n",
        "if save_big_file:\n",
        "  %cd /content/RVC_CLI\n",
        "  latest_steps = -1\n",
        "  logs_folder = './logs/' + MODELNAME\n",
        "  for filename in os.listdir(logs_folder):#get the latest g and d files\n",
        "    if filename.startswith('G_') and filename.endswith('.pth'):\n",
        "      steps = int(filename.split('_')[1].split('.')[0])\n",
        "      if steps > latest_steps:\n",
        "        latest_steps = steps\n",
        "  MODELZIP = MODELNAME + '.zip'\n",
        "  !mkdir -p /content/zips\n",
        "  ZIPFILEPATH = os.path.join('/content/zips', MODELZIP)\n",
        "  for filename in os.listdir(logs_folder):\n",
        "    if 'G_' in filename or 'D_' in filename:\n",
        "      if str(latest_steps) in filename:\n",
        "        !zip -r {ZIPFILEPATH} {os.path.join(logs_folder, filename)}\n",
        "    else:\n",
        "      !zip -r {ZIPFILEPATH} {os.path.join(logs_folder, filename)}\n",
        "  for filename in os.listdir('./weights'):\n",
        "    if MODELNAME in filename:\n",
        "      !zip -r {ZIPFILEPATH} {os.path.join('./weights/', filename)}\n",
        "\n",
        "!mkdir -p /content/drive/MyDrive/RVC_Backup/\n",
        "shutil.move(f'/content/zips/{MODELNAME}.zip',f'/content/drive/MyDrive/RVC_Backup/{MODELNAME}.zip')\n",
        "%cd /content\n",
        "shutil.rmtree(\"/content/zips\")"
      ]
    }
  ],
  "metadata": {
    "accelerator": "GPU",
    "colab": {
      "collapsed_sections": [
        "ymMCTSD6m8qV"
      ],
      "provenance": []
    },
    "kernelspec": {
      "display_name": "Python 3",
      "name": "python3"
    },
    "language_info": {
      "name": "python"
    }
  },
  "nbformat": 4,
  "nbformat_minor": 0
}